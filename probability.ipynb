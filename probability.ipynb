{
 "cells": [
  {
   "cell_type": "markdown",
   "id": "0a7b1669",
   "metadata": {},
   "source": [
    "# Probability with Python\n",
    "\n",
    "Probability is the branch of mathematics concerning numerical\n",
    "descriptions of how likely an event is to occur, or how likely it is\n",
    "that a proposition is true.\n",
    "\n",
    "Reference:\n",
    "[Probability\\|Wikipedia](https://en.wikipedia.org/wiki/Probability)\n",
    "\n",
    "To really understand Probability we need first to understand some key\n",
    "concepts as sample space and events.\n",
    "\n",
    "### Sample space\n",
    "\n",
    "The **sample space** is the set of all possible outcomes of an\n",
    "experiment."
   ]
  },
  {
   "cell_type": "code",
   "execution_count": 16,
   "id": "52ecfe69",
   "metadata": {},
   "outputs": [],
   "source": [
    "sex_newborn = [\"girl\",\"boy\"]"
   ]
  },
  {
   "cell_type": "markdown",
   "id": "bdb9db5d",
   "metadata": {},
   "source": [
    "\n",
    "\n",
    "for more complex sample spaces we use the combinatorics to get all\n",
    "possible results.\n",
    "\n",
    "In a race between four cars the sample space is represented by all\n",
    "possible outcomes of ending positions:"
   ]
  },
  {
   "cell_type": "code",
   "execution_count": 1,
   "id": "77c4ede1",
   "metadata": {},
   "outputs": [
    {
     "name": "stdout",
     "output_type": "stream",
     "text": [
      "[('Ferrari', 'Lamborghini', 'Maserati', 'Porsche'), ('Ferrari', 'Lamborghini', 'Porsche', 'Maserati'), ('Ferrari', 'Maserati', 'Lamborghini', 'Porsche'), ('Ferrari', 'Maserati', 'Porsche', 'Lamborghini'), ('Ferrari', 'Porsche', 'Lamborghini', 'Maserati'), ('Ferrari', 'Porsche', 'Maserati', 'Lamborghini'), ('Lamborghini', 'Ferrari', 'Maserati', 'Porsche'), ('Lamborghini', 'Ferrari', 'Porsche', 'Maserati'), ('Lamborghini', 'Maserati', 'Ferrari', 'Porsche'), ('Lamborghini', 'Maserati', 'Porsche', 'Ferrari'), ('Lamborghini', 'Porsche', 'Ferrari', 'Maserati'), ('Lamborghini', 'Porsche', 'Maserati', 'Ferrari'), ('Maserati', 'Ferrari', 'Lamborghini', 'Porsche'), ('Maserati', 'Ferrari', 'Porsche', 'Lamborghini'), ('Maserati', 'Lamborghini', 'Ferrari', 'Porsche'), ('Maserati', 'Lamborghini', 'Porsche', 'Ferrari'), ('Maserati', 'Porsche', 'Ferrari', 'Lamborghini'), ('Maserati', 'Porsche', 'Lamborghini', 'Ferrari'), ('Porsche', 'Ferrari', 'Lamborghini', 'Maserati'), ('Porsche', 'Ferrari', 'Maserati', 'Lamborghini'), ('Porsche', 'Lamborghini', 'Ferrari', 'Maserati'), ('Porsche', 'Lamborghini', 'Maserati', 'Ferrari'), ('Porsche', 'Maserati', 'Ferrari', 'Lamborghini'), ('Porsche', 'Maserati', 'Lamborghini', 'Ferrari')]\n"
     ]
    }
   ],
   "source": [
    "import itertools as it\n",
    "cars = [\"Ferrari\",\"Lamborghini\",\"Maserati\",\"Porsche\"]\n",
    "sample_space = list(it.permutations(cars))\n",
    "print(sample_space)"
   ]
  },
  {
   "cell_type": "markdown",
   "id": "bbb6412c",
   "metadata": {},
   "source": [
    "The outcome **sample_space\\[2\\]** (‘Ferrari’, ‘Maserati’, ‘Lamborghini’,\n",
    "‘Porsche’) means that Ferrari arrived 1st, Maserati 2nd etc.\n",
    "\n",
    "\\#\\#\\# Event An event represents any subset of the sample space. Like\n",
    "**sample_space\\[2\\]**, but can also be **Porsche as first** and include\n",
    "more single elements in the sample space.\n",
    "\n",
    "We can imagine the two events: \\* Porsche first \\* Maserati third\n",
    "\n",
    "We can use logical operators **OR** and **AND** to get all possible\n",
    "occurrence of both events:"
   ]
  },
  {
   "cell_type": "code",
   "execution_count": 4,
   "id": "bcf4ee77",
   "metadata": {},
   "outputs": [
    {
     "name": "stdout",
     "output_type": "stream",
     "text": [
      "[('Porsche', 'Ferrari', 'Lamborghini', 'Maserati'), ('Porsche', 'Ferrari', 'Maserati', 'Lamborghini'), ('Porsche', 'Lamborghini', 'Ferrari', 'Maserati'), ('Porsche', 'Lamborghini', 'Maserati', 'Ferrari'), ('Porsche', 'Maserati', 'Ferrari', 'Lamborghini'), ('Porsche', 'Maserati', 'Lamborghini', 'Ferrari')]\n"
     ]
    }
   ],
   "source": [
    "porsche_first = []\n",
    "for e in list(sample_space):\n",
    "    if e[0] == \"Porsche\":\n",
    "        porsche_first.append(e)\n",
    "print(porsche_first)"
   ]
  },
  {
   "cell_type": "markdown",
   "id": "dda1228d",
   "metadata": {},
   "source": [
    "We can do the same to get maserati third:"
   ]
  },
  {
   "cell_type": "code",
   "execution_count": 5,
   "id": "5b8841d2",
   "metadata": {},
   "outputs": [
    {
     "name": "stdout",
     "output_type": "stream",
     "text": [
      "[('Ferrari', 'Lamborghini', 'Maserati', 'Porsche'), ('Ferrari', 'Porsche', 'Maserati', 'Lamborghini'), ('Lamborghini', 'Ferrari', 'Maserati', 'Porsche'), ('Lamborghini', 'Porsche', 'Maserati', 'Ferrari'), ('Porsche', 'Ferrari', 'Maserati', 'Lamborghini'), ('Porsche', 'Lamborghini', 'Maserati', 'Ferrari')]\n"
     ]
    }
   ],
   "source": [
    "maserati_third = []\n",
    "for e in list(sample_space):\n",
    "   if e[2] == \"Maserati\":\n",
    "       maserati_third .append(e)\n",
    "print(maserati_third)"
   ]
  },
  {
   "cell_type": "markdown",
   "id": "422a9518",
   "metadata": {},
   "source": [
    "We can use logical operators:\n",
    "\n",
    "This event will occur if either Porsche arrives first OR Maserati\n",
    "arrives third."
   ]
  },
  {
   "cell_type": "code",
   "execution_count": 6,
   "id": "503fe20e",
   "metadata": {},
   "outputs": [
    {
     "name": "stdout",
     "output_type": "stream",
     "text": [
      "[('Ferrari', 'Lamborghini', 'Maserati', 'Porsche'), ('Ferrari', 'Porsche', 'Maserati', 'Lamborghini'), ('Lamborghini', 'Ferrari', 'Maserati', 'Porsche'), ('Lamborghini', 'Porsche', 'Maserati', 'Ferrari'), ('Porsche', 'Ferrari', 'Lamborghini', 'Maserati'), ('Porsche', 'Ferrari', 'Maserati', 'Lamborghini'), ('Porsche', 'Lamborghini', 'Ferrari', 'Maserati'), ('Porsche', 'Lamborghini', 'Maserati', 'Ferrari'), ('Porsche', 'Maserati', 'Ferrari', 'Lamborghini'), ('Porsche', 'Maserati', 'Lamborghini', 'Ferrari')]\n"
     ]
    }
   ],
   "source": [
    "maserati_third_or_porsche_first = []\n",
    "for e in list(sample_space):\n",
    "   if e[2] == \"Maserati\" or e[0] == \"Porsche\":\n",
    "       maserati_third_or_porsche_first.append(e)\n",
    "print(maserati_third_or_porsche_first)"
   ]
  },
  {
   "cell_type": "markdown",
   "id": "154225e2",
   "metadata": {},
   "source": [
    "This other event will occur only if Porsche arrives first AND Maserati\n",
    "arrives third:"
   ]
  },
  {
   "cell_type": "code",
   "execution_count": 7,
   "id": "589324b5",
   "metadata": {},
   "outputs": [
    {
     "name": "stdout",
     "output_type": "stream",
     "text": [
      "[('Porsche', 'Ferrari', 'Maserati', 'Lamborghini'), ('Porsche', 'Lamborghini', 'Maserati', 'Ferrari')]\n"
     ]
    }
   ],
   "source": [
    "maserati_third_and_porsche_first = [] \n",
    "for e in list(sample_space):     \n",
    "    if e[2] == \"Maserati\" and e[0] == \"Porsche\":         \n",
    "        maserati_third_and_porsche_first.append(e)\n",
    "print(maserati_third_and_porsche_first)"
   ]
  },
  {
   "cell_type": "markdown",
   "id": "4378d77b",
   "metadata": {},
   "source": [
    "\n",
    "\\#\\# The three Axioms of Probability\n",
    "\n",
    "-   **Axiom 1:** The probability of an event is always beetween 0 and 1.\n",
    "\n",
    "-   **Axiom 2:** The probability of the sample space is always equal 1.\n",
    "\n",
    "-   **Axiom 3:** for any sequence of **mutually exclusive** events , the\n",
    "    probability of at least one of them to occur is equal to the sum of\n",
    "    all respective probabilities.\n",
    "\n",
    "The first two axioms are really easy to understand. To explain the third\n",
    "axioms, we take a dice:"
   ]
  },
  {
   "cell_type": "code",
   "execution_count": 11,
   "id": "32ffb3c4",
   "metadata": {},
   "outputs": [],
   "source": [
    "sample_space = list(range(1,7))"
   ]
  },
  {
   "cell_type": "markdown",
   "id": "d3582a9c",
   "metadata": {},
   "source": [
    "The probability to get in one throw 2 is equal:"
   ]
  },
  {
   "cell_type": "code",
   "execution_count": 12,
   "id": "af409cfa",
   "metadata": {},
   "outputs": [
    {
     "name": "stdout",
     "output_type": "stream",
     "text": [
      "1/6\n"
     ]
    }
   ],
   "source": [
    "from fractions import Fraction\n",
    "probability2 = str(Fraction(sample_space.count(2)/len(sample_space)).limit_denominator())\n",
    "print(probability2)"
   ]
  },
  {
   "cell_type": "markdown",
   "id": "58b6e989",
   "metadata": {},
   "source": [
    "*We imported the function **Fraction()** from fraction module to get 1/6\n",
    "as result (we also converted it to a string). If we omit the\n",
    "**.limit_denominator()** method. We get a really weird fraction as\n",
    "result:*\n",
    "\n",
    "6004799503160661 / 36028797018963968\n",
    "\n",
    "*This is because 1/6 = 0.16666666666666666*\n",
    "\n",
    "As dice results are mutually exclusive, if we want to know the probility\n",
    "of get 2 or 4 or 6 in a launch we can simply sum:\n",
    "\n",
    "1/6 + 1/6 + 1/6 = 3/6 = 1/2\n",
    "\n",
    "We couldn’t take our car race as example to explain the third axiom of\n",
    "probability, because the outcomes aren’t mutually exclusive.\n",
    "\n",
    "P(Porshe\\|first) = 1/4  \n",
    "P(Maserati\\|third) = 1/4\n",
    "\n",
    "P(Maserati\\|third) + P(Porshe\\|first) \\<\\> 1/2\n",
    "\n",
    "But we watched in the OR example that is 5/12\n",
    "\n",
    "## Simple proposition\n",
    "\n",
    "As we know that:\n",
    "\n",
    "P(sample_space) = 1\n",
    "\n",
    "We can derive easily that the probability of an event happening is equal\n",
    "to:\n",
    "\n",
    "P(event happening) = 1 - P(event not happening)\n",
    "\n",
    "## More complex probabilities\n",
    "\n",
    "### Team of five\n",
    "\n",
    "We want to know what is the probability to get a committee of 5 person\n",
    "composed of 3 men and 2 women from our group of 6 men and 9 women."
   ]
  },
  {
   "cell_type": "code",
   "execution_count": 13,
   "id": "5dbdc0eb",
   "metadata": {},
   "outputs": [],
   "source": [
    "import itertools as it\n",
    "men = (\"Mark\",\"John\",\"Luis\",\"Gordon\",\"Andrew\",\"George\")\n",
    "women = (\"Martha\",\"Aida\",\"Isabel\",\"Karen\",\"Audrey\",\"Abigail\",\"Julia\",\"Mia\",\"Anne\")\n",
    " \n",
    "sample_space = it.combinations(men + women,5)"
   ]
  },
  {
   "cell_type": "markdown",
   "id": "c5f4bf84",
   "metadata": {},
   "source": [
    "Then we get the 20 possible men combinations:"
   ]
  },
  {
   "cell_type": "code",
   "execution_count": 14,
   "id": "4c4cf8e0",
   "metadata": {},
   "outputs": [],
   "source": [
    "men_combinations = list(it.combinations(men,3))"
   ]
  },
  {
   "cell_type": "markdown",
   "id": "8a657b88",
   "metadata": {},
   "source": [
    "and the 36 women combinations:"
   ]
  },
  {
   "cell_type": "code",
   "execution_count": 15,
   "id": "3292acee",
   "metadata": {},
   "outputs": [],
   "source": [
    "women_combinations = list(it.combinations(women,2))"
   ]
  },
  {
   "cell_type": "markdown",
   "id": "c3f9d91f",
   "metadata": {},
   "source": [
    "To get all list of possibile teams of 3 women und 2 men:"
   ]
  },
  {
   "cell_type": "code",
   "execution_count": null,
   "id": "fbd2998f",
   "metadata": {},
   "outputs": [],
   "source": [
    "good_teams = [] \n",
    "for man_comb in men_combinations:     \n",
    "    for woman_comb in women_combinations:         \n",
    "        good_teams.append(man_comb + woman_comb)\n",
    "print(good_teams)"
   ]
  },
  {
   "cell_type": "markdown",
   "id": "09e7894d",
   "metadata": {},
   "source": [
    "We can again extract a random one:"
   ]
  },
  {
   "cell_type": "code",
   "execution_count": null,
   "id": "0740dad0",
   "metadata": {},
   "outputs": [
    {
     "ename": "",
     "evalue": "",
     "output_type": "error",
     "traceback": [
      "\u001b[1;31mRunning cells with 'Python 3.9.11 ('base')' requires ipykernel package.\n",
      "Run the following command to install 'ipykernel' into the Python environment. \n",
      "Command: 'conda install -n base ipykernel --update-deps --force-reinstall'"
     ]
    }
   ],
   "source": [
    "import numpy as np \n",
    "good_teams[np.random.randint(720)]"
   ]
  },
  {
   "cell_type": "markdown",
   "id": "d301e6a8",
   "metadata": {},
   "source": [
    "If we want to know only the number of possible combinations we can use:"
   ]
  },
  {
   "cell_type": "code",
   "execution_count": null,
   "id": "50d31a7a",
   "metadata": {},
   "outputs": [],
   "source": []
  },
  {
   "cell_type": "markdown",
   "id": "3f55ee76",
   "metadata": {},
   "source": [
    "    ### Married couples\n",
    "\n",
    "    In a group of 5 couples we want to know the probability to make a group of \n",
    "    people all unrelated.\n",
    "\n",
    "    We have to imagine this experiment like a different stages decisions:"
   ]
  },
  {
   "cell_type": "code",
   "execution_count": null,
   "id": "106fdf3c",
   "metadata": {},
   "outputs": [],
   "source": [
    "    married_couples = [[\"Mary\",\"John\"],[\"Homer\",\"Marge\"],[\"Beauty\",\"Beast\"],[\"Abigail\",\"George\"],[\"Marco\",\"Luisa\"]]\n",
    "\n",
    "    all_persons = []\n",
    "    for couples in married_couples:\n",
    "        for person in couples:\n",
    "            all_persons.append(person)\n",
    "\n",
    "    # You can use in alternative a generator:\n",
    "    all_persons = [list(it.product(*t)) for t in it.combinations(married_couples, 3)]\n",
    "\n",
    "\n",
    "    sample_space = list(it.combinations(all_persons,3))"
   ]
  },
  {
   "cell_type": "markdown",
   "id": "e5fe0a9e",
   "metadata": {},
   "source": [
    "Now we want to exclude all possible combination that contains two\n",
    "persons from the same couple."
   ]
  },
  {
   "cell_type": "code",
   "execution_count": null,
   "id": "a8731012",
   "metadata": {},
   "outputs": [],
   "source": [
    "correct_results = sample_space.copy()\n",
    "for couple in married_couples:\n",
    "    for res in sample_space:\n",
    "        if couple[0] in res and couple[1] in res:\n",
    "                if res in correct_results:\n",
    "                    correct_results.remove(res)"
   ]
  }
 ],
 "metadata": {
  "interpreter": {
   "hash": "e7cb1b9ae4d417fedf7f40a8eec98f7cfbd359e096bd857395a915f4609834ce"
  },
  "kernelspec": {
   "display_name": "Python 3.9.11 ('base')",
   "language": "python",
   "name": "python3"
  },
  "language_info": {
   "codemirror_mode": {
    "name": "ipython",
    "version": 3
   },
   "file_extension": ".py",
   "mimetype": "text/x-python",
   "name": "python",
   "nbconvert_exporter": "python",
   "pygments_lexer": "ipython3",
   "version": "3.9.12"
  }
 },
 "nbformat": 4,
 "nbformat_minor": 5
}
